{
 "cells": [
  {
   "cell_type": "markdown",
   "id": "cbbf9fb2-0301-4588-9315-229a9da37666",
   "metadata": {},
   "source": [
    " ### Q1. Explain why we have to use the Exception class while creating a Custom Exception.\n",
    "\n",
    "Note: Here Exception class refers to the base class for all the exceptions. "
   ]
  },
  {
   "cell_type": "markdown",
   "id": "d659061e-586a-4281-b607-868325a5160e",
   "metadata": {},
   "source": [
    "In Python, the Exception class serves as the base class for all built-in and user-defined exceptions. When creating a custom exception, it is recommended to inherit from the Exception class or one of its subclasses. Here are a few reasons why we use the Exception class as the base for custom exceptions:\n",
    "\n",
    "Inherit common exception behavior: By inheriting from the Exception class, your custom exception inherits common behavior and attributes from the base class. This includes the ability to be raised, caught, and handled like other exceptions, providing consistency in exception handling across your codebase.\n",
    "\n",
    "Integration with exception handling mechanisms: In Python, exceptions are managed using try-except blocks and other exception handling mechanisms. By deriving from the Exception class, your custom exception seamlessly integrates with the existing exception handling infrastructure in Python. This allows you to catch and handle your custom exception in a similar manner as other built-in exceptions.\n",
    "\n",
    "Avoid conflicts and confusion: Inheriting from the Exception class helps avoid conflicts and confusion when working with exceptions. By using a distinct custom exception class, you can clearly differentiate your custom exception from other types of exceptions. This makes it easier to identify and handle specific error conditions within your code.\n",
    "\n",
    "Convenience and familiarity: Using the Exception class as the base for custom exceptions provides a familiar programming pattern. Developers who are already familiar with Python's exception hierarchy can easily understand and work with your custom exceptions.\n",
    "\n",
    "While it is possible to create custom exceptions without inheriting from the Exception class, doing so may lead to inconsistencies, difficulties in exception handling, and confusion for other developers working with your code. Inheriting from the Exception class ensures that your custom exception behaves as expected and follows established conventions for exception handling in Python."
   ]
  },
  {
   "cell_type": "markdown",
   "id": "f0785ba2-e32d-4f15-810b-c0bb037a45d2",
   "metadata": {},
   "source": [
    "### Q2. Write a python program to print Python Exception Hierarchy."
   ]
  },
  {
   "cell_type": "code",
   "execution_count": 1,
   "id": "660ef530-1dca-4332-b221-0de970b94c1c",
   "metadata": {},
   "outputs": [
    {
     "name": "stdout",
     "output_type": "stream",
     "text": [
      "BaseException\n",
      "    Exception\n",
      "        TypeError\n",
      "            FloatOperation\n",
      "            MultipartConversionError\n",
      "        StopAsyncIteration\n",
      "        StopIteration\n",
      "        ImportError\n",
      "            ModuleNotFoundError\n",
      "            ZipImportError\n",
      "        OSError\n",
      "            ConnectionError\n",
      "                BrokenPipeError\n",
      "                ConnectionAbortedError\n",
      "                ConnectionRefusedError\n",
      "                ConnectionResetError\n",
      "                    RemoteDisconnected\n",
      "            BlockingIOError\n",
      "            ChildProcessError\n",
      "            FileExistsError\n",
      "            FileNotFoundError\n",
      "            IsADirectoryError\n",
      "            NotADirectoryError\n",
      "            InterruptedError\n",
      "                InterruptedSystemCall\n",
      "            PermissionError\n",
      "            ProcessLookupError\n",
      "            TimeoutError\n",
      "            UnsupportedOperation\n",
      "            itimer_error\n",
      "            herror\n",
      "            gaierror\n",
      "            SSLError\n",
      "                SSLCertVerificationError\n",
      "                SSLZeroReturnError\n",
      "                SSLWantWriteError\n",
      "                SSLWantReadError\n",
      "                SSLSyscallError\n",
      "                SSLEOFError\n",
      "            Error\n",
      "                SameFileError\n",
      "            SpecialFileError\n",
      "            ExecError\n",
      "            ReadError\n",
      "            URLError\n",
      "                HTTPError\n",
      "                ContentTooShortError\n",
      "            BadGzipFile\n",
      "        EOFError\n",
      "            IncompleteReadError\n",
      "        RuntimeError\n",
      "            RecursionError\n",
      "            NotImplementedError\n",
      "                ZMQVersionError\n",
      "                StdinNotImplementedError\n",
      "            _DeadlockError\n",
      "            BrokenBarrierError\n",
      "            BrokenExecutor\n",
      "                BrokenThreadPool\n",
      "            SendfileNotAvailableError\n",
      "            ExtractionError\n",
      "            VariableError\n",
      "        NameError\n",
      "            UnboundLocalError\n",
      "        AttributeError\n",
      "            FrozenInstanceError\n",
      "        SyntaxError\n",
      "            IndentationError\n",
      "                TabError\n",
      "        LookupError\n",
      "            IndexError\n",
      "            KeyError\n",
      "                NoSuchKernel\n",
      "                UnknownBackend\n",
      "            CodecRegistryError\n",
      "        ValueError\n",
      "            UnicodeError\n",
      "                UnicodeEncodeError\n",
      "                UnicodeDecodeError\n",
      "                UnicodeTranslateError\n",
      "            UnsupportedOperation\n",
      "            JSONDecodeError\n",
      "            SSLCertVerificationError\n",
      "            Error\n",
      "            UnsupportedDigestmodError\n",
      "            IllegalMonthError\n",
      "            IllegalWeekdayError\n",
      "            ParserError\n",
      "            ClassNotFound\n",
      "            ClipboardEmpty\n",
      "            MessageDefect\n",
      "                NoBoundaryInMultipartDefect\n",
      "                StartBoundaryNotFoundDefect\n",
      "                CloseBoundaryNotFoundDefect\n",
      "                FirstHeaderLineIsContinuationDefect\n",
      "                MisplacedEnvelopeHeaderDefect\n",
      "                MissingHeaderBodySeparatorDefect\n",
      "                MultipartInvariantViolationDefect\n",
      "                InvalidMultipartContentTransferEncodingDefect\n",
      "                UndecodableBytesDefect\n",
      "                InvalidBase64PaddingDefect\n",
      "                InvalidBase64CharactersDefect\n",
      "                InvalidBase64LengthDefect\n",
      "                HeaderDefect\n",
      "                    InvalidHeaderDefect\n",
      "                    HeaderMissingRequiredValue\n",
      "                    NonPrintableDefect\n",
      "                    ObsoleteHeaderDefect\n",
      "                    NonASCIILocalPartDefect\n",
      "                    InvalidDateDefect\n",
      "            MacroToEdit\n",
      "            InvalidFileException\n",
      "            UnequalIterablesError\n",
      "            InvalidVersion\n",
      "            _InvalidELFFileHeader\n",
      "            InvalidWheelFilename\n",
      "            InvalidSdistFilename\n",
      "            InvalidSpecifier\n",
      "            InvalidMarker\n",
      "            UndefinedComparison\n",
      "            UndefinedEnvironmentName\n",
      "            InvalidRequirement\n",
      "                RequirementParseError\n",
      "            InvalidVersion\n",
      "        AssertionError\n",
      "        ArithmeticError\n",
      "            FloatingPointError\n",
      "            OverflowError\n",
      "            ZeroDivisionError\n",
      "                DivisionByZero\n",
      "                DivisionUndefined\n",
      "            DecimalException\n",
      "                Clamped\n",
      "                Rounded\n",
      "                    Underflow\n",
      "                    Overflow\n",
      "                Inexact\n",
      "                    Underflow\n",
      "                    Overflow\n",
      "                Subnormal\n",
      "                    Underflow\n",
      "                DivisionByZero\n",
      "                FloatOperation\n",
      "                InvalidOperation\n",
      "                    ConversionSyntax\n",
      "                    DivisionImpossible\n",
      "                    DivisionUndefined\n",
      "                    InvalidContext\n",
      "        SystemError\n",
      "            CodecRegistryError\n",
      "        ReferenceError\n",
      "        MemoryError\n",
      "        BufferError\n",
      "        Warning\n",
      "            UserWarning\n",
      "                GetPassWarning\n",
      "                FormatterWarning\n",
      "            EncodingWarning\n",
      "            DeprecationWarning\n",
      "                ProvisionalWarning\n",
      "            PendingDeprecationWarning\n",
      "            SyntaxWarning\n",
      "            RuntimeWarning\n",
      "                ProactorSelectorThreadWarning\n",
      "                UnknownTimezoneWarning\n",
      "                PEP440Warning\n",
      "            FutureWarning\n",
      "                ProvisionalCompleterWarning\n",
      "            ImportWarning\n",
      "            UnicodeWarning\n",
      "            BytesWarning\n",
      "            ResourceWarning\n",
      "            DeprecatedTzFormatWarning\n",
      "            PkgResourcesDeprecationWarning\n",
      "        _OptionError\n",
      "        _Error\n",
      "        error\n",
      "        Verbose\n",
      "        Error\n",
      "        SubprocessError\n",
      "            CalledProcessError\n",
      "            TimeoutExpired\n",
      "        TokenError\n",
      "        StopTokenizing\n",
      "        ClassFoundException\n",
      "        EndOfBlock\n",
      "        TraitError\n",
      "        Error\n",
      "        Error\n",
      "            CancelledError\n",
      "            TimeoutError\n",
      "            InvalidStateError\n",
      "        _GiveupOnSendfile\n",
      "        error\n",
      "        Incomplete\n",
      "        TimeoutError\n",
      "        InvalidStateError\n",
      "        LimitOverrunError\n",
      "        QueueEmpty\n",
      "        QueueFull\n",
      "        Empty\n",
      "        Full\n",
      "        ArgumentError\n",
      "        ZMQBaseError\n",
      "            ZMQError\n",
      "                ContextTerminated\n",
      "                Again\n",
      "                InterruptedSystemCall\n",
      "            ZMQBindError\n",
      "            NotDone\n",
      "        PickleError\n",
      "            PicklingError\n",
      "            UnpicklingError\n",
      "        _Stop\n",
      "        ArgumentError\n",
      "        ArgumentTypeError\n",
      "        ConfigError\n",
      "            ConfigLoaderError\n",
      "                ArgumentError\n",
      "            ConfigFileNotFound\n",
      "        ConfigurableError\n",
      "            MultipleInstanceError\n",
      "        ApplicationError\n",
      "        error\n",
      "        TimeoutError\n",
      "        error\n",
      "        ReturnValueIgnoredError\n",
      "        KeyReuseError\n",
      "        UnknownKeyError\n",
      "        LeakedCallbackError\n",
      "        BadYieldError\n",
      "        ReturnValueIgnoredError\n",
      "        Return\n",
      "        InvalidPortNumber\n",
      "        error\n",
      "        LZMAError\n",
      "        RegistryError\n",
      "        _GiveupOnFastCopy\n",
      "        Error\n",
      "            NoSectionError\n",
      "            DuplicateSectionError\n",
      "            DuplicateOptionError\n",
      "            NoOptionError\n",
      "            InterpolationError\n",
      "                InterpolationMissingOptionError\n",
      "                InterpolationSyntaxError\n",
      "                InterpolationDepthError\n",
      "            ParsingError\n",
      "                MissingSectionHeaderError\n",
      "        NoIPAddresses\n",
      "        BadZipFile\n",
      "        LargeZipFile\n",
      "        BadEntryPoint\n",
      "        NoSuchEntryPoint\n",
      "        DuplicateKernelError\n",
      "        ErrorDuringImport\n",
      "        NotOneValueFound\n",
      "        CannotEval\n",
      "        OptionError\n",
      "        BdbQuit\n",
      "        Restart\n",
      "        ExceptionPexpect\n",
      "            EOF\n",
      "            TIMEOUT\n",
      "        PtyProcessError\n",
      "        FindCmdError\n",
      "        HomeDirError\n",
      "        ProfileDirError\n",
      "        IPythonCoreError\n",
      "            TryNext\n",
      "            UsageError\n",
      "            StdinNotImplementedError\n",
      "        InputRejected\n",
      "        GetoptError\n",
      "        ErrorToken\n",
      "        PrefilterError\n",
      "        AliasError\n",
      "            InvalidAliasError\n",
      "        Error\n",
      "            InterfaceError\n",
      "            DatabaseError\n",
      "                InternalError\n",
      "                OperationalError\n",
      "                ProgrammingError\n",
      "                IntegrityError\n",
      "                DataError\n",
      "                NotSupportedError\n",
      "        Warning\n",
      "        SpaceInInput\n",
      "        DOMException\n",
      "            IndexSizeErr\n",
      "            DomstringSizeErr\n",
      "            HierarchyRequestErr\n",
      "            WrongDocumentErr\n",
      "            InvalidCharacterErr\n",
      "            NoDataAllowedErr\n",
      "            NoModificationAllowedErr\n",
      "            NotFoundErr\n",
      "            NotSupportedErr\n",
      "            InuseAttributeErr\n",
      "            InvalidStateErr\n",
      "            SyntaxErr\n",
      "            InvalidModificationErr\n",
      "            NamespaceErr\n",
      "            InvalidAccessErr\n",
      "            ValidationErr\n",
      "        ValidationError\n",
      "        EditReadOnlyBuffer\n",
      "        _Retry\n",
      "        InvalidLayoutError\n",
      "        HeightIsUnknownError\n",
      "        ParserSyntaxError\n",
      "        InternalParseError\n",
      "        _PositionUpdatingFinished\n",
      "        SimpleGetItemNotFound\n",
      "        UncaughtAttributeError\n",
      "        HasNoContext\n",
      "        ParamIssue\n",
      "        _JediError\n",
      "            InternalError\n",
      "            WrongVersion\n",
      "            RefactoringError\n",
      "        OnErrorLeaf\n",
      "        InvalidPythonEnvironment\n",
      "        MessageError\n",
      "            MessageParseError\n",
      "                HeaderParseError\n",
      "                BoundaryError\n",
      "            MultipartConversionError\n",
      "            CharsetError\n",
      "        Error\n",
      "        HTTPException\n",
      "            NotConnected\n",
      "            InvalidURL\n",
      "            UnknownProtocol\n",
      "            UnknownTransferEncoding\n",
      "            UnimplementedFileMode\n",
      "            IncompleteRead\n",
      "            ImproperConnectionState\n",
      "                CannotSendRequest\n",
      "                CannotSendHeader\n",
      "                ResponseNotReady\n",
      "            BadStatusLine\n",
      "                RemoteDisconnected\n",
      "            LineTooLong\n",
      "        InteractivelyDefined\n",
      "        KillEmbedded\n",
      "        Error\n",
      "            NoSuchProcess\n",
      "                ZombieProcess\n",
      "            AccessDenied\n",
      "            TimeoutExpired\n",
      "        _Ipv6UnsupportedError\n",
      "        QueueEmpty\n",
      "        QueueFull\n",
      "        DebuggerInitializationError\n",
      "        ExpatError\n",
      "        Error\n",
      "            ProtocolError\n",
      "            ResponseError\n",
      "            Fault\n",
      "        ParseBaseException\n",
      "            ParseException\n",
      "            ParseFatalException\n",
      "                ParseSyntaxException\n",
      "        RecursiveGrammarException\n",
      "        ResolutionError\n",
      "            VersionConflict\n",
      "                ContextualVersionConflict\n",
      "            DistributionNotFound\n",
      "            UnknownExtra\n",
      "        _Error\n",
      "        UnableToResolveVariableException\n",
      "        InvalidTypeInArgsException\n",
      "    GeneratorExit\n",
      "    SystemExit\n",
      "    KeyboardInterrupt\n",
      "    CancelledError\n",
      "    AbortThread\n"
     ]
    }
   ],
   "source": [
    "def print_exception_hierarchy(exception_class, indent=0):\n",
    "    print(' ' * indent + exception_class.__name__)\n",
    "    for subclass in exception_class.__subclasses__():\n",
    "        print_exception_hierarchy(subclass, indent + 4)\n",
    "\n",
    "print_exception_hierarchy(BaseException)\n"
   ]
  },
  {
   "cell_type": "markdown",
   "id": "a708145b-f360-4a99-8c79-69c58452bbfd",
   "metadata": {},
   "source": [
    "### Q3. What errors are defined in the ArithmeticError class? Explain any two with an example."
   ]
  },
  {
   "cell_type": "markdown",
   "id": "caccaf50-6b02-4b42-aedd-2bc12679d2f0",
   "metadata": {},
   "source": [
    "1. ZeroDivisionError: This exception is raised when a division or modulo operation is performed with zero as the divisor.\n",
    "Example:"
   ]
  },
  {
   "cell_type": "code",
   "execution_count": 2,
   "id": "d3a4566f-02d1-492b-a73a-2cbacc689775",
   "metadata": {},
   "outputs": [
    {
     "name": "stdout",
     "output_type": "stream",
     "text": [
      "Error: Division by zero is not allowed.\n"
     ]
    }
   ],
   "source": [
    "def divide_numbers(a, b):\n",
    "    try:\n",
    "        result = a / b\n",
    "        print(\"Division result:\", result)\n",
    "    except ZeroDivisionError:\n",
    "        print(\"Error: Division by zero is not allowed.\")\n",
    "\n",
    "numerator = 10\n",
    "denominator = 0\n",
    "\n",
    "divide_numbers(numerator, denominator)\n"
   ]
  },
  {
   "cell_type": "markdown",
   "id": "904ae949-71a6-415a-9efb-e167afecb691",
   "metadata": {},
   "source": [
    "2.OverflowError:\n",
    "This exception is raised when the result of an arithmetic operation exceeds the maximum representable value for a numeric type.\n",
    "Example:"
   ]
  },
  {
   "cell_type": "code",
   "execution_count": 4,
   "id": "eaf6f956-498f-4de0-938e-ddf05b4fc44c",
   "metadata": {},
   "outputs": [
    {
     "name": "stdout",
     "output_type": "stream",
     "text": [
      "Multiplication result: 1000000000000000000000000000000000000000000000000000000000000000000000000000\n"
     ]
    }
   ],
   "source": [
    "def multiply_numbers(a, b):\n",
    "    try:\n",
    "        result = a * b\n",
    "        print(\"Multiplication result:\", result)\n",
    "    except OverflowError:\n",
    "        print(\"Error: Result exceeds maximum representable value.\")\n",
    "\n",
    "x = 10 ** 50\n",
    "y = 10 ** 25\n",
    "\n",
    "multiply_numbers(x, y)\n"
   ]
  },
  {
   "cell_type": "markdown",
   "id": "c5bb2511-c8c4-4f0e-b740-473097a2c3d4",
   "metadata": {},
   "source": [
    "### Q4. Why LookupError class is used? Explain with an example KeyError and IndexError."
   ]
  },
  {
   "cell_type": "markdown",
   "id": "ff937f55-b859-4463-bba6-b613fdcd366f",
   "metadata": {},
   "source": [
    "The LookupError class in Python is a base class for exceptions that occur when a lookup or indexing operation fails. It serves as a superclass for exceptions related to searching, indexing, or retrieving elements from a collection or sequence. Two commonly used exceptions derived from the LookupError class are KeyError and IndexError.\n",
    "\n",
    "KeyError: This exception is raised when a dictionary key is not found during a lookup operation.\n",
    "Example:"
   ]
  },
  {
   "cell_type": "code",
   "execution_count": 9,
   "id": "dc1b5727-b1ab-4a0d-8ca0-0dd47e855ec4",
   "metadata": {},
   "outputs": [
    {
     "name": "stdout",
     "output_type": "stream",
     "text": [
      "Grade: 55\n"
     ]
    }
   ],
   "source": [
    "student_grades = {\"Alice\": 90, \"Bob\": 85, \"Charlie\": 92 , \"David\":55}\n",
    "\n",
    "try:\n",
    "    grade = student_grades[\"David\"]\n",
    "    print(\"Grade:\", grade)\n",
    "except KeyError:\n",
    "    print(\"Error: Key not found in the dictionary.\")\n"
   ]
  },
  {
   "cell_type": "code",
   "execution_count": 8,
   "id": "931d39ec-c151-4c8d-b4ae-521b4c51d919",
   "metadata": {},
   "outputs": [
    {
     "name": "stdout",
     "output_type": "stream",
     "text": [
      "Error: Key not found in the dictionary.\n"
     ]
    }
   ],
   "source": [
    "student_grades = {\"Alice\": 90, \"Bob\": 85, \"Charlie\": 92 , \"David\":55}\n",
    "\n",
    "try:\n",
    "    grade = student_grades[\"Rishi\"]\n",
    "    print(\"Grade:\", grade)\n",
    "except KeyError:\n",
    "    print(\"Error: Key not found in the dictionary.\")\n"
   ]
  },
  {
   "cell_type": "markdown",
   "id": "0c0ba45d-bb21-4f0f-84e4-0ad1ae027edb",
   "metadata": {},
   "source": [
    "IndexError: This exception is raised when an index is out of range in a sequence like a list or a string.\n",
    "Example:"
   ]
  },
  {
   "cell_type": "code",
   "execution_count": 10,
   "id": "ff7659eb-784d-4e9b-a29f-d50777d38312",
   "metadata": {},
   "outputs": [
    {
     "name": "stdout",
     "output_type": "stream",
     "text": [
      "Error: Index out of range.\n"
     ]
    }
   ],
   "source": [
    "my_list = [1, 2, 3]\n",
    "\n",
    "try:\n",
    "    value = my_list[3]\n",
    "    print(\"Value:\", value)\n",
    "except IndexError:\n",
    "    print(\"Error: Index out of range.\")\n"
   ]
  },
  {
   "cell_type": "code",
   "execution_count": 12,
   "id": "d82ef1e8-5b08-4df8-b6be-ac8d2d9659d9",
   "metadata": {},
   "outputs": [
    {
     "name": "stdout",
     "output_type": "stream",
     "text": [
      "Value: 4\n"
     ]
    }
   ],
   "source": [
    "my_list = [1, 2, 3 , 4]\n",
    "\n",
    "try:\n",
    "    value = my_list[3]\n",
    "    print(\"Value:\", value)\n",
    "except IndexError:\n",
    "    print(\"Error: Index out of range.\") # I Try To Complete It.\n"
   ]
  },
  {
   "cell_type": "markdown",
   "id": "9fd3063a-82c9-4296-bec6-e9907a05050e",
   "metadata": {},
   "source": [
    "### Q5. Explain ImportError. What is ModuleNotFoundError?"
   ]
  },
  {
   "cell_type": "markdown",
   "id": "f3dd7269-9dfd-4bcd-8ead-cc16ea3770b1",
   "metadata": {},
   "source": [
    "### ImportError:\n",
    "ImportError is a general exception raised when there is an issue with importing a module. This error occurs when Python encounters problems while trying to import a module using the import statement. There are several reasons why an ImportError might occur:\n",
    "The module or package name specified in the import statement is incorrect.\n",
    "The module or package is not installed on the system, or it is installed in a location not accessible to the Python interpreter.\n",
    "There might be circular imports, where two or more modules directly or indirectly import each other.\n",
    "The module contains syntax errors or runtime errors that prevent it from being imported successfully.\n",
    "Here's an example of an ImportError:"
   ]
  },
  {
   "cell_type": "code",
   "execution_count": 1,
   "id": "004fa505-9cd0-4a46-9682-0e01b36aeee7",
   "metadata": {},
   "outputs": [
    {
     "name": "stdout",
     "output_type": "stream",
     "text": [
      "ImportError: No module named 'non_existent_module'\n"
     ]
    }
   ],
   "source": [
    "try:\n",
    "    import non_existent_module\n",
    "except ImportError as e:\n",
    "    print(f\"ImportError: {e}\")\n"
   ]
  },
  {
   "cell_type": "markdown",
   "id": "1d320510-5f20-4fdf-aec6-e7d3b4c59c38",
   "metadata": {},
   "source": [
    "### ModuleNotFoundError:\n",
    "ModuleNotFoundError is a more specific type of ImportError. It was introduced in Python 3.6 to provide more clarity and precision when an imported module or package cannot be found. The ModuleNotFoundError is raised when Python cannot locate the specified module or package during import.\n",
    "Before Python 3.6, if a module was not found, a regular ImportError would be raised. However, this could sometimes lead to confusion, as ImportError could also be raised for other reasons, such as circular imports or syntax errors in the module.\n",
    "\n",
    "With ModuleNotFoundError, it's easier to differentiate between a module not being found and other types of import-related issues. If a module name is misspelled or the module simply does not exist in the Python environment, you will get a ModuleNotFoundError.\n",
    "\n",
    "Here's an example of a ModuleNotFoundError:"
   ]
  },
  {
   "cell_type": "code",
   "execution_count": 2,
   "id": "46a56a39-2ca1-4f3d-bb44-57d6d7fcbc64",
   "metadata": {},
   "outputs": [
    {
     "name": "stdout",
     "output_type": "stream",
     "text": [
      "ModuleNotFoundError: No module named 'non_existent_module'\n"
     ]
    }
   ],
   "source": [
    "try:\n",
    "    import non_existent_module\n",
    "except ModuleNotFoundError as e:\n",
    "    print(f\"ModuleNotFoundError: {e}\")\n"
   ]
  },
  {
   "cell_type": "markdown",
   "id": "45176808-8057-4d2d-9f0a-1f951dcbce0d",
   "metadata": {},
   "source": [
    "### Q6.  List down some best practices for exception handling in python. \n"
   ]
  },
  {
   "cell_type": "code",
   "execution_count": 3,
   "id": "4c0fb690-a3d0-4bbc-b683-a7e7f9422811",
   "metadata": {},
   "outputs": [
    {
     "name": "stdout",
     "output_type": "stream",
     "text": [
      "The result of 10 / 2 is 5.0\n",
      "Division operation completed.\n",
      "Error: Division by zero is not allowed. division by zero\n",
      "Division operation completed.\n",
      "Error: Invalid data type. unsupported operand type(s) for /: 'str' and 'int'\n",
      "Division operation completed.\n"
     ]
    }
   ],
   "source": [
    "def divide_numbers(a, b):\n",
    "    try:\n",
    "        result = a / b\n",
    "    except ZeroDivisionError as e:\n",
    "        print(f\"Error: Division by zero is not allowed. {e}\")\n",
    "    except TypeError as e:\n",
    "        print(f\"Error: Invalid data type. {e}\")\n",
    "    except Exception as e:\n",
    "        print(f\"An unexpected error occurred: {e}\")\n",
    "    else:\n",
    "        print(f\"The result of {a} / {b} is {result}\")\n",
    "    finally:\n",
    "        print(\"Division operation completed.\")\n",
    "\n",
    "# Test cases\n",
    "divide_numbers(10, 2)\n",
    "divide_numbers(5, 0)\n",
    "divide_numbers(\"10\", 2)\n"
   ]
  },
  {
   "cell_type": "code",
   "execution_count": 4,
   "id": "81350565-1cd8-4138-b646-6d4b093c6fbe",
   "metadata": {},
   "outputs": [
    {
     "name": "stdin",
     "output_type": "stream",
     "text": [
      "Enter an integer:  546\n"
     ]
    },
    {
     "name": "stdout",
     "output_type": "stream",
     "text": [
      "Successfully read integer: 546\n"
     ]
    }
   ],
   "source": [
    "def read_integer():\n",
    "    try:\n",
    "        user_input = input(\"Enter an integer: \")\n",
    "        integer_value = int(user_input)\n",
    "        print(f\"Successfully read integer: {integer_value}\")\n",
    "    except ValueError:\n",
    "        print(\"Error: Invalid input. Please enter a valid integer.\")\n",
    "    except KeyboardInterrupt:\n",
    "        print(\"\\nOperation interrupted by the user.\")\n",
    "    except Exception as e:\n",
    "        print(f\"An unexpected error occurred: {e}\")\n",
    "\n",
    "# Test the function\n",
    "read_integer()\n"
   ]
  },
  {
   "cell_type": "code",
   "execution_count": 5,
   "id": "9a1ba0ea-94f1-4bbb-b3b9-ee4e50f9a0e8",
   "metadata": {},
   "outputs": [
    {
     "name": "stdin",
     "output_type": "stream",
     "text": [
      "Enter an integer:  Rishi\n"
     ]
    },
    {
     "name": "stdout",
     "output_type": "stream",
     "text": [
      "Error: Invalid input. Please enter a valid integer.\n"
     ]
    }
   ],
   "source": [
    "def read_integer():\n",
    "    try:\n",
    "        user_input = input(\"Enter an integer: \")\n",
    "        integer_value = int(user_input)\n",
    "        print(f\"Successfully read integer: {integer_value}\")\n",
    "    except ValueError:\n",
    "        print(\"Error: Invalid input. Please enter a valid integer.\")\n",
    "    except KeyboardInterrupt:\n",
    "        print(\"\\nOperation interrupted by the user.\")\n",
    "    except Exception as e:\n",
    "        print(f\"An unexpected error occurred: {e}\")\n",
    "\n",
    "# Test the function\n",
    "read_integer()\n"
   ]
  },
  {
   "cell_type": "code",
   "execution_count": 6,
   "id": "49d51efb-cc42-4ae1-be0c-6c0b0489bd89",
   "metadata": {},
   "outputs": [
    {
     "name": "stdin",
     "output_type": "stream",
     "text": [
      "Enter an integer:  Rishi + Gupta\n"
     ]
    },
    {
     "name": "stdout",
     "output_type": "stream",
     "text": [
      "Error: Invalid input. Please enter a valid integer.\n"
     ]
    }
   ],
   "source": [
    "def read_integer():\n",
    "    try:\n",
    "        user_input = input(\"Enter an integer: \")\n",
    "        integer_value = int(user_input)\n",
    "        print(f\"Successfully read integer: {integer_value}\")\n",
    "    except ValueError:\n",
    "        print(\"Error: Invalid input. Please enter a valid integer.\")\n",
    "    except KeyboardInterrupt:\n",
    "        print(\"\\nOperation interrupted by the user.\")\n",
    "    except Exception as e:\n",
    "        print(f\"An unexpected error occurred: {e}\")\n",
    "\n",
    "# Test the function\n",
    "read_integer()\n"
   ]
  },
  {
   "cell_type": "code",
   "execution_count": 7,
   "id": "2b9ece22-eac0-4996-ae76-f2db084083f8",
   "metadata": {},
   "outputs": [
    {
     "name": "stdin",
     "output_type": "stream",
     "text": [
      "Enter an integer:  5/0\n"
     ]
    },
    {
     "name": "stdout",
     "output_type": "stream",
     "text": [
      "Error: Invalid input. Please enter a valid integer.\n"
     ]
    }
   ],
   "source": [
    "def read_integer():\n",
    "    try:\n",
    "        user_input = input(\"Enter an integer: \")\n",
    "        integer_value = int(user_input)\n",
    "        print(f\"Successfully read integer: {integer_value}\")\n",
    "    except ValueError:\n",
    "        print(\"Error: Invalid input. Please enter a valid integer.\")\n",
    "    except KeyboardInterrupt:\n",
    "        print(\"\\nOperation interrupted by the user.\")\n",
    "    except Exception as e:\n",
    "        print(f\"An unexpected error occurred: {e}\")\n",
    "\n",
    "# Test the function\n",
    "read_integer()\n"
   ]
  }
 ],
 "metadata": {
  "kernelspec": {
   "display_name": "Python 3 (ipykernel)",
   "language": "python",
   "name": "python3"
  },
  "language_info": {
   "codemirror_mode": {
    "name": "ipython",
    "version": 3
   },
   "file_extension": ".py",
   "mimetype": "text/x-python",
   "name": "python",
   "nbconvert_exporter": "python",
   "pygments_lexer": "ipython3",
   "version": "3.10.8"
  }
 },
 "nbformat": 4,
 "nbformat_minor": 5
}
